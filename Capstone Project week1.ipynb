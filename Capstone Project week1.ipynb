{
    "cells": [
        {
            "cell_type": "markdown",
            "metadata": {
                "collapsed": true
            },
            "source": "## **Introduction/Business Problem**"
        },
        {
            "cell_type": "markdown",
            "metadata": {},
            "source": "The luxury boutique is trying to open up a new business in Toronto. To find the best place to open up a business to get many customers who can afford luxury clothes, jewelry, and other service they would like to find out the neighborhoods that have the most income and population in Toronto. "
        },
        {
            "cell_type": "markdown",
            "metadata": {},
            "source": "This is a website for the data I'm going to use: https://www.toronto.ca/ext/open_data/catalog/data_set_files/2016_neighbourhood_profiles.csv\n"
        },
        {
            "cell_type": "markdown",
            "metadata": {},
            "source": "    1. Identify the neighborhoods with the most income\n    2. Identify the neighborhoods that have the most population among (1)  "
        },
        {
            "cell_type": "code",
            "execution_count": null,
            "metadata": {},
            "outputs": [],
            "source": ""
        }
    ],
    "metadata": {
        "kernelspec": {
            "display_name": "Python 3.6",
            "language": "python",
            "name": "python3"
        },
        "language_info": {
            "codemirror_mode": {
                "name": "ipython",
                "version": 3
            },
            "file_extension": ".py",
            "mimetype": "text/x-python",
            "name": "python",
            "nbconvert_exporter": "python",
            "pygments_lexer": "ipython3",
            "version": "3.6.9"
        }
    },
    "nbformat": 4,
    "nbformat_minor": 1
}